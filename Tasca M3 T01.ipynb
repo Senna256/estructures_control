{
 "cells": [
  {
   "cell_type": "code",
   "execution_count": null,
   "id": "49aabc2f",
   "metadata": {},
   "outputs": [],
   "source": [
    "#Sprint 3         Enric Sena Alvarez\n",
    "#Exercici 1  "
   ]
  },
  {
   "cell_type": "code",
   "execution_count": 4,
   "id": "420d4a2b",
   "metadata": {},
   "outputs": [],
   "source": [
    "import numpy as np\n",
    "import statistics as sts\n",
    "\n",
    "\n",
    "def resum(a):\n",
    "    dimensions=a.ndim\n",
    "    if dimensions==1:\n",
    "        mitjana=sts.mean(a)\n",
    "        desv=sts.sd(a)\n",
    "    else:\n",
    "        print(\"l'array té dimensió superior a 1!!\")\n",
    "        "
   ]
  },
  {
   "cell_type": "code",
   "execution_count": 32,
   "id": "f354e45d",
   "metadata": {
    "scrolled": true
   },
   "outputs": [
    {
     "name": "stdout",
     "output_type": "stream",
     "text": [
      "introdueix el nombre de files del quadrat:2\n"
     ]
    }
   ],
   "source": [
    "#Exercici 2\n",
    "n=int(input(\"introdueix el nombre de files del quadrat:\"))\n",
    "\n",
    "def quadrat(n):\n",
    "    aleatori=np.random.random((n,n))\n",
    "    return(aleatori)\n",
    "    \n",
    "aleatori=quadrat(n)"
   ]
  },
  {
   "cell_type": "code",
   "execution_count": 28,
   "id": "8259211f",
   "metadata": {},
   "outputs": [
    {
     "data": {
      "text/plain": [
       "array([21.44355887, 23.34749834, 20.68856445, 21.89444737, 23.27069918,\n",
       "       24.96677669, 22.82284843, 22.01032344, 23.33792076, 21.53511004,\n",
       "       23.74867472, 21.57807339, 22.75538611, 25.52643334, 21.76246058,\n",
       "       22.53881115, 22.36626295, 20.10478914, 22.69271391, 20.87430408,\n",
       "       24.30792122, 20.50165026, 20.21372882, 23.38021666, 23.97137237,\n",
       "       19.63507088, 23.62621209, 20.03852268, 26.41101351, 22.43262096,\n",
       "       24.88499466, 20.30585061, 23.55114189, 23.88996274, 21.70078532,\n",
       "       23.51857234, 19.90666213, 25.55495248, 21.89258048, 21.08244277,\n",
       "       20.69714605, 23.75080684, 17.13728501, 25.34952456, 22.54312982])"
      ]
     },
     "execution_count": 28,
     "metadata": {},
     "output_type": "execute_result"
    }
   ],
   "source": [
    "#Exercici 3\n",
    "def totals(a):\n",
    "    totals_files=np.sum(a,axis=0)\n",
    "    totals_columnes=np.sum(a,axis=1)\n",
    "    return(totals_files)\n",
    "    return(totals_columnes)\n",
    "#comprovo que funciona:\n",
    "totals(aleatori)\n"
   ]
  },
  {
   "cell_type": "code",
   "execution_count": 45,
   "id": "f5127d35",
   "metadata": {},
   "outputs": [
    {
     "data": {
      "text/plain": [
       "(0.8960463080407275, 0.0)"
      ]
     },
     "execution_count": 45,
     "metadata": {},
     "output_type": "execute_result"
    }
   ],
   "source": [
    "#Exercici 4\n",
    "from numpy.random import randn\n",
    "from scipy.stats import pearsonr\n",
    "\n",
    "data1 = 20 * randn(1000) + 100\n",
    "data2 = data1 + (10 * randn(1000) + 50)\n",
    "pearsonr(data1,data2)"
   ]
  }
 ],
 "metadata": {
  "kernelspec": {
   "display_name": "Python 3",
   "language": "python",
   "name": "python3"
  },
  "language_info": {
   "codemirror_mode": {
    "name": "ipython",
    "version": 3
   },
   "file_extension": ".py",
   "mimetype": "text/x-python",
   "name": "python",
   "nbconvert_exporter": "python",
   "pygments_lexer": "ipython3",
   "version": "3.8.8"
  }
 },
 "nbformat": 4,
 "nbformat_minor": 5
}
