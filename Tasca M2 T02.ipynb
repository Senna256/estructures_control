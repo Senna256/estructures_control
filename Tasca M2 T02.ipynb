{
 "cells": [
  {
   "cell_type": "code",
   "execution_count": 8,
   "id": "21523c6a",
   "metadata": {},
   "outputs": [
    {
     "name": "stdout",
     "output_type": "stream",
     "text": [
      "Introdueix la nota:8.5\n",
      "Notable\n"
     ]
    }
   ],
   "source": [
    "#Tasca M2 T02\n",
    "\n",
    "#Exercici 1\n",
    "\n",
    "int=float(input(\"Introdueix la nota:\"))\n",
    "if int<5:\n",
    "    print(\"Suspés\")\n",
    "if int>5and int<7:\n",
    "    print(\"Aprovat\")\n",
    "if int>7 and int<9:\n",
    "    print(\"Notable\")\n",
    "if int>9:\n",
    "    print(\"Excel·lent\")\n",
    "    "
   ]
  },
  {
   "cell_type": "code",
   "execution_count": 21,
   "id": "1a7ff468",
   "metadata": {},
   "outputs": [
    {
     "name": "stdout",
     "output_type": "stream",
     "text": [
      "Introdueix un número:5\n",
      "Introdueix un altre número:5\n",
      "Ambdós nombres són iguals\n"
     ]
    }
   ],
   "source": [
    "#Exercici 2\n",
    "a=float(input(\"Introdueix un número:\"))\n",
    "b=float(input(\"Introdueix un altre número:\"))\n",
    "if a>b:\n",
    "    print(\"El 1r és més gran que el 2n\")\n",
    "if a<b:\n",
    "    print(\"El 2n és més gran que el 1r\")\n",
    "if a == b:\n",
    "    print(\"Ambdós nombres són iguals\")"
   ]
  },
  {
   "cell_type": "code",
   "execution_count": 40,
   "id": "f454e713",
   "metadata": {},
   "outputs": [
    {
     "name": "stdout",
     "output_type": "stream",
     "text": [
      "Introdueix el teu nom:enric\n",
      "Introdueix un número:3\n"
     ]
    },
    {
     "ename": "TypeError",
     "evalue": "unsupported operand type(s) for /: 'str' and 'int'",
     "output_type": "error",
     "traceback": [
      "\u001b[1;31m---------------------------------------------------------------------------\u001b[0m",
      "\u001b[1;31mTypeError\u001b[0m                                 Traceback (most recent call last)",
      "Input \u001b[1;32mIn [40]\u001b[0m, in \u001b[0;36m<cell line: 5>\u001b[1;34m()\u001b[0m\n\u001b[0;32m      3\u001b[0m nom\u001b[38;5;241m=\u001b[39m\u001b[38;5;28minput\u001b[39m(\u001b[38;5;124m\"\u001b[39m\u001b[38;5;124mIntrodueix el teu nom:\u001b[39m\u001b[38;5;124m\"\u001b[39m)\n\u001b[0;32m      4\u001b[0m numero\u001b[38;5;241m=\u001b[39m\u001b[38;5;28minput\u001b[39m(\u001b[38;5;124m\"\u001b[39m\u001b[38;5;124mIntrodueix un número:\u001b[39m\u001b[38;5;124m\"\u001b[39m)\n\u001b[1;32m----> 5\u001b[0m sortida\u001b[38;5;241m=\u001b[39m\u001b[43mrepeat\u001b[49m\u001b[43m(\u001b[49m\u001b[43mnom\u001b[49m\u001b[43m,\u001b[49m\u001b[43mnumero\u001b[49m\u001b[43m)\u001b[49m\n\u001b[0;32m      6\u001b[0m \u001b[38;5;28mprint\u001b[39m(sortida)\n",
      "Input \u001b[1;32mIn [39]\u001b[0m, in \u001b[0;36mrepeat\u001b[1;34m(string_to_repeat, length)\u001b[0m\n\u001b[0;32m      3\u001b[0m \u001b[38;5;28;01mdef\u001b[39;00m \u001b[38;5;21mrepeat\u001b[39m(string_to_repeat, length):\n\u001b[1;32m----> 4\u001b[0m     multiple \u001b[38;5;241m=\u001b[39m \u001b[38;5;28mint\u001b[39m(\u001b[43mlength\u001b[49m\u001b[38;5;241;43m/\u001b[39;49m\u001b[38;5;28;43mlen\u001b[39;49m\u001b[43m(\u001b[49m\u001b[43mstring_to_repeat\u001b[49m\u001b[43m)\u001b[49m \u001b[38;5;241m+\u001b[39m \u001b[38;5;241m1\u001b[39m)\n\u001b[0;32m      5\u001b[0m     repeated_string \u001b[38;5;241m=\u001b[39m string_to_repeat \u001b[38;5;241m*\u001b[39m multiple\n\u001b[0;32m      6\u001b[0m     \u001b[38;5;28;01mreturn\u001b[39;00m repeated_string[:length]\n",
      "\u001b[1;31mTypeError\u001b[0m: unsupported operand type(s) for /: 'str' and 'int'"
     ]
    }
   ],
   "source": [
    "#Exercici 3\n",
    "\n",
    "nom=input(\"Introdueix el teu nom:\")\n",
    "numero=input(\"Introdueix un número:\")\n",
    "sortida=repeat(nom,numero)\n",
    "print(sortida)"
   ]
  },
  {
   "cell_type": "code",
   "execution_count": 52,
   "id": "f08640a3",
   "metadata": {},
   "outputs": [
    {
     "name": "stdout",
     "output_type": "stream",
     "text": [
      "Nombre d'elements a la llista:4\n"
     ]
    },
    {
     "ename": "TypeError",
     "evalue": "'float' object is not iterable",
     "output_type": "error",
     "traceback": [
      "\u001b[1;31m---------------------------------------------------------------------------\u001b[0m",
      "\u001b[1;31mTypeError\u001b[0m                                 Traceback (most recent call last)",
      "Input \u001b[1;32mIn [52]\u001b[0m, in \u001b[0;36m<cell line: 4>\u001b[1;34m()\u001b[0m\n\u001b[0;32m      2\u001b[0m n\u001b[38;5;241m=\u001b[39m\u001b[38;5;28mfloat\u001b[39m(\u001b[38;5;28minput\u001b[39m(\u001b[38;5;124m\"\u001b[39m\u001b[38;5;124mNombre d\u001b[39m\u001b[38;5;124m'\u001b[39m\u001b[38;5;124melements a la llista:\u001b[39m\u001b[38;5;124m\"\u001b[39m))\n\u001b[0;32m      3\u001b[0m llista\u001b[38;5;241m=\u001b[39m[]\n\u001b[1;32m----> 4\u001b[0m \u001b[38;5;28;01mfor\u001b[39;00m i \u001b[38;5;129;01min\u001b[39;00m n:\n\u001b[0;32m      5\u001b[0m     llista[i]\u001b[38;5;241m=\u001b[39m\u001b[38;5;28minput\u001b[39m(\u001b[38;5;124m\"\u001b[39m\u001b[38;5;124mIntrodueix element de la llista\u001b[39m\u001b[38;5;124m\"\u001b[39m)\n",
      "\u001b[1;31mTypeError\u001b[0m: 'float' object is not iterable"
     ]
    }
   ],
   "source": [
    "#Exercici 4\n",
    "n=float(input(\"Nombre d'elements a la llista:\"))\n",
    "llista=[]\n",
    "for i in n:\n",
    "    llista[i]=input(\"Introdueix element de la llista\")\n",
    "    \n",
    "comptador=0\n",
    "for i in n:\n",
    "    if llista[i]==llista[n]\n",
    "        comptador=comptador+1\n",
    "    if comptador==n:\n",
    "        print(\"La llista és capicua\")"
   ]
  },
  {
   "cell_type": "code",
   "execution_count": null,
   "id": "be9a0284",
   "metadata": {},
   "outputs": [],
   "source": [
    "#Exercici 5\n",
    "n=float(input(\"Nombre d'elements a la llista:\"))\n",
    "llista=[]\n",
    "for i in n:\n",
    "    llista[i]=float(input(\"Introdueix element de la llista\"))\n",
    "\n",
    "coincidencia=[]\n",
    "n=len(llista)\n",
    "a=0\n",
    "for i in n:\n",
    "    if llista[i]=i:\n",
    "        coincidencia[a]=i\n",
    "        a=a+1\n",
    "print(\"Els nombres que coincideixen són: \", coincidencia)\n"
   ]
  },
  {
   "cell_type": "code",
   "execution_count": null,
   "id": "b3a81c1b",
   "metadata": {},
   "outputs": [],
   "source": []
  }
 ],
 "metadata": {
  "kernelspec": {
   "display_name": "Python 3 (ipykernel)",
   "language": "python",
   "name": "python3"
  },
  "language_info": {
   "codemirror_mode": {
    "name": "ipython",
    "version": 3
   },
   "file_extension": ".py",
   "mimetype": "text/x-python",
   "name": "python",
   "nbconvert_exporter": "python",
   "pygments_lexer": "ipython3",
   "version": "3.9.12"
  }
 },
 "nbformat": 4,
 "nbformat_minor": 5
}
